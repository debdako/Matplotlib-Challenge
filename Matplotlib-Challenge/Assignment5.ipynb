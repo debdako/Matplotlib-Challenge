{
 "cells": [
  {
   "cell_type": "code",
   "execution_count": 7,
   "id": "15629048-c725-4a6d-918a-520b10b2e298",
   "metadata": {},
   "outputs": [],
   "source": [
    "# Dependencies and Setup\n",
    "import matplotlib.pyplot as plt\n",
    "import pandas as pd\n",
    "import scipy.stats as st\n",
    "\n",
    "# study data files\n",
    "Mouse_metadata = \"Mouse_metadata.csv\"\n",
    "Study_results = \"Study_results.csv\"\n",
    "\n",
    "# read mouse metadata & study results\n",
    "Mouse_metadata = pd.read_csv(Mouse_metadata)\n",
    "Study_results = pd.read_csv(Study_results)"
   ]
  },
  {
   "cell_type": "code",
   "execution_count": 8,
   "id": "9578cc03-02a9-42ef-9838-9cfd7055cb56",
   "metadata": {},
   "outputs": [],
   "source": [
    "# Creating \"laboratory_data\" from \"Mouse_metadata\" & \"Study_results\"\n",
    "laboratory_data = pd.merge(Mouse_metadata, Study_results, how = \"outer\", on = \"Mouse ID\")"
   ]
  },
  {
   "cell_type": "code",
   "execution_count": 9,
   "id": "8dccd6c5-25db-4681-a219-82c84bc0173d",
   "metadata": {},
   "outputs": [],
   "source": [
    "# generate the mean, median, variance, standard deviation, and SEM of the tumor volume for each drug regimen.\n",
    "laboratory_data_mean = laboratory_data.groupby([\"Drug Regimen\"]).mean()\n",
    "laboratory_data_median = laboratory_data.groupby([\"Drug Regimen\"]).median()\n",
    "laboratory_data_variance = laboratory_data.groupby([\"Drug Regimen\"]).var()\n",
    "laboratory_data_standard_deviation = laboratory_data.groupby([\"Drug Regimen\"]).std()\n",
    "laboratory_data_standard_SEM = laboratory_data.groupby([\"Drug Regimen\"]).sem()"
   ]
  },
  {
   "cell_type": "code",
   "execution_count": 10,
   "id": "c0894a1d-e44c-46bc-ac9c-80043494d3f1",
   "metadata": {},
   "outputs": [],
   "source": [
    "# creating summary statistics table\n",
    "summary_statistics_table = pd.concat([laboratory_data_mean[\"Tumor Volume (mm3)\"], \n",
    "                                      laboratory_data_median[\"Tumor Volume (mm3)\"], \n",
    "                                      laboratory_data_variance[\"Tumor Volume (mm3)\"], \n",
    "                                      laboratory_data_standard_deviation[\"Tumor Volume (mm3)\"], \n",
    "                                      laboratory_data_standard_SEM[\"Tumor Volume (mm3)\"]], axis = 1)"
   ]
  },
  {
   "cell_type": "code",
   "execution_count": 11,
   "id": "00236c17-41de-4b87-b8f1-1d95ede113ca",
   "metadata": {},
   "outputs": [
    {
     "data": {
      "text/html": [
       "<div>\n",
       "<style scoped>\n",
       "    .dataframe tbody tr th:only-of-type {\n",
       "        vertical-align: middle;\n",
       "    }\n",
       "\n",
       "    .dataframe tbody tr th {\n",
       "        vertical-align: top;\n",
       "    }\n",
       "\n",
       "    .dataframe thead th {\n",
       "        text-align: right;\n",
       "    }\n",
       "</style>\n",
       "<table border=\"1\" class=\"dataframe\">\n",
       "  <thead>\n",
       "    <tr style=\"text-align: right;\">\n",
       "      <th></th>\n",
       "      <th>Mean Tumor Volume (mm3)</th>\n",
       "      <th>Median Tumor Volume (mm3)</th>\n",
       "      <th>Tumor Volume (mm3) - Variance</th>\n",
       "      <th>Tumor Volume (mm3) - Standard Deviation</th>\n",
       "      <th>Tumor Volume (mm3) - SEM</th>\n",
       "    </tr>\n",
       "    <tr>\n",
       "      <th>Drug Regimen</th>\n",
       "      <th></th>\n",
       "      <th></th>\n",
       "      <th></th>\n",
       "      <th></th>\n",
       "      <th></th>\n",
       "    </tr>\n",
       "  </thead>\n",
       "  <tbody>\n",
       "    <tr>\n",
       "      <th>Capomulin</th>\n",
       "      <td>40.675741</td>\n",
       "      <td>41.557809</td>\n",
       "      <td>24.947764</td>\n",
       "      <td>4.994774</td>\n",
       "      <td>0.329346</td>\n",
       "    </tr>\n",
       "    <tr>\n",
       "      <th>Ceftamin</th>\n",
       "      <td>52.591172</td>\n",
       "      <td>51.776157</td>\n",
       "      <td>39.290177</td>\n",
       "      <td>6.268188</td>\n",
       "      <td>0.469821</td>\n",
       "    </tr>\n",
       "    <tr>\n",
       "      <th>Infubinol</th>\n",
       "      <td>52.884795</td>\n",
       "      <td>51.820584</td>\n",
       "      <td>43.128684</td>\n",
       "      <td>6.567243</td>\n",
       "      <td>0.492236</td>\n",
       "    </tr>\n",
       "    <tr>\n",
       "      <th>Ketapril</th>\n",
       "      <td>55.235638</td>\n",
       "      <td>53.698743</td>\n",
       "      <td>68.553577</td>\n",
       "      <td>8.279709</td>\n",
       "      <td>0.603860</td>\n",
       "    </tr>\n",
       "    <tr>\n",
       "      <th>Naftisol</th>\n",
       "      <td>54.331565</td>\n",
       "      <td>52.509285</td>\n",
       "      <td>66.173479</td>\n",
       "      <td>8.134708</td>\n",
       "      <td>0.596466</td>\n",
       "    </tr>\n",
       "    <tr>\n",
       "      <th>Placebo</th>\n",
       "      <td>54.033581</td>\n",
       "      <td>52.288934</td>\n",
       "      <td>61.168083</td>\n",
       "      <td>7.821003</td>\n",
       "      <td>0.581331</td>\n",
       "    </tr>\n",
       "    <tr>\n",
       "      <th>Propriva</th>\n",
       "      <td>52.322552</td>\n",
       "      <td>50.854632</td>\n",
       "      <td>42.351070</td>\n",
       "      <td>6.507770</td>\n",
       "      <td>0.512884</td>\n",
       "    </tr>\n",
       "    <tr>\n",
       "      <th>Ramicane</th>\n",
       "      <td>40.216745</td>\n",
       "      <td>40.673236</td>\n",
       "      <td>23.486704</td>\n",
       "      <td>4.846308</td>\n",
       "      <td>0.320955</td>\n",
       "    </tr>\n",
       "    <tr>\n",
       "      <th>Stelasyn</th>\n",
       "      <td>54.233149</td>\n",
       "      <td>52.431737</td>\n",
       "      <td>59.450562</td>\n",
       "      <td>7.710419</td>\n",
       "      <td>0.573111</td>\n",
       "    </tr>\n",
       "    <tr>\n",
       "      <th>Zoniferol</th>\n",
       "      <td>53.236507</td>\n",
       "      <td>51.818479</td>\n",
       "      <td>48.533355</td>\n",
       "      <td>6.966589</td>\n",
       "      <td>0.516398</td>\n",
       "    </tr>\n",
       "  </tbody>\n",
       "</table>\n",
       "</div>"
      ],
      "text/plain": [
       "              Mean Tumor Volume (mm3)  Median Tumor Volume (mm3)  \\\n",
       "Drug Regimen                                                       \n",
       "Capomulin                   40.675741                  41.557809   \n",
       "Ceftamin                    52.591172                  51.776157   \n",
       "Infubinol                   52.884795                  51.820584   \n",
       "Ketapril                    55.235638                  53.698743   \n",
       "Naftisol                    54.331565                  52.509285   \n",
       "Placebo                     54.033581                  52.288934   \n",
       "Propriva                    52.322552                  50.854632   \n",
       "Ramicane                    40.216745                  40.673236   \n",
       "Stelasyn                    54.233149                  52.431737   \n",
       "Zoniferol                   53.236507                  51.818479   \n",
       "\n",
       "              Tumor Volume (mm3) - Variance  \\\n",
       "Drug Regimen                                  \n",
       "Capomulin                         24.947764   \n",
       "Ceftamin                          39.290177   \n",
       "Infubinol                         43.128684   \n",
       "Ketapril                          68.553577   \n",
       "Naftisol                          66.173479   \n",
       "Placebo                           61.168083   \n",
       "Propriva                          42.351070   \n",
       "Ramicane                          23.486704   \n",
       "Stelasyn                          59.450562   \n",
       "Zoniferol                         48.533355   \n",
       "\n",
       "              Tumor Volume (mm3) - Standard Deviation  \\\n",
       "Drug Regimen                                            \n",
       "Capomulin                                    4.994774   \n",
       "Ceftamin                                     6.268188   \n",
       "Infubinol                                    6.567243   \n",
       "Ketapril                                     8.279709   \n",
       "Naftisol                                     8.134708   \n",
       "Placebo                                      7.821003   \n",
       "Propriva                                     6.507770   \n",
       "Ramicane                                     4.846308   \n",
       "Stelasyn                                     7.710419   \n",
       "Zoniferol                                    6.966589   \n",
       "\n",
       "              Tumor Volume (mm3) - SEM  \n",
       "Drug Regimen                            \n",
       "Capomulin                     0.329346  \n",
       "Ceftamin                      0.469821  \n",
       "Infubinol                     0.492236  \n",
       "Ketapril                      0.603860  \n",
       "Naftisol                      0.596466  \n",
       "Placebo                       0.581331  \n",
       "Propriva                      0.512884  \n",
       "Ramicane                      0.320955  \n",
       "Stelasyn                      0.573111  \n",
       "Zoniferol                     0.516398  "
      ]
     },
     "execution_count": 11,
     "metadata": {},
     "output_type": "execute_result"
    }
   ],
   "source": [
    "#  Cleaning the columns for more clarity\n",
    "summary_statistics_table.columns = [\"Mean Tumor Volume (mm3)\", \n",
    "                                    \"Median Tumor Volume (mm3)\", \n",
    "                                    \"Tumor Volume (mm3) - Variance\", \n",
    "                                    \"Tumor Volume (mm3) - Standard Deviation\", \n",
    "                                    \"Tumor Volume (mm3) - SEM\"]\n",
    "# Print\n",
    "summary_statistics_table"
   ]
  },
  {
   "cell_type": "code",
   "execution_count": 12,
   "id": "a4f9fbeb-1d64-4884-9f39-d4b246cdd0af",
   "metadata": {},
   "outputs": [
    {
     "data": {
      "text/plain": [
       "Text(0, 0.5, 'Number of Data Points')"
      ]
     },
     "execution_count": 12,
     "metadata": {},
     "output_type": "execute_result"
    },
    {
     "data": {
      "image/png": "[encoded data removed]",
      "text/plain": [
       "<Figure size 432x288 with 1 Axes>"
      ]
     },
     "metadata": {
      "needs_background": "light"
     },
     "output_type": "display_data"
    }
   ],
   "source": [
    "# Generating bar chart with the Pandas DataFrame.plot() method.\n",
    "laboratory_data_count = laboratory_data.groupby([\"Drug Regimen\"]).count()\n",
    "dropped_laboratory_data_count = laboratory_data_count.drop([\"Sex\", \n",
    "                                                            \"Age_months\", \n",
    "                                                            \"Weight (g)\", \n",
    "                                                            \"Timepoint\", \n",
    "                                                            \"Tumor Volume (mm3)\", \n",
    "                                                            \"Metastatic Sites\"], axis = 1)\n",
    "#  pandas plot = matplotlib plot\n",
    "pymaceuticals_bar_plot = dropped_laboratory_data_count.plot(kind = \"bar\", \n",
    "                                                            title = \"Number of Data Points for each Treatment Regimen\", \n",
    "                                                            legend = False, \n",
    "                                                            alpha = 0.5, \n",
    "                                                            color = \"red\", \n",
    "                                                            width = 0.5, \n",
    "                                                            ylim = (125, 250), \n",
    "                                                            rot = 45)\n",
    "# Axis labels for the plot\n",
    "pymaceuticals_bar_plot.set_xlabel(\"Treatment Regimen\")\n",
    "pymaceuticals_bar_plot.set_ylabel(\"Number of Data Points\")"
   ]
  },
  {
   "cell_type": "code",
   "execution_count": 13,
   "id": "70809d76-bc95-4449-a891-fcd843b9a6d4",
   "metadata": {},
   "outputs": [
    {
     "data": {
      "image/png": "[encoded data removed]",
      "text/plain": [
       "<Figure size 432x288 with 1 Axes>"
      ]
     },
     "metadata": {
      "needs_background": "light"
     },
     "output_type": "display_data"
    }
   ],
   "source": [
    "# Generating bar chart with Matplotlib's pyplot methods.\n",
    "# array that contains the instances.\n",
    "mouse_id = [230, 178, 178, 188, 186, 181, 161, 228, 181, 182]\n",
    "x_axis = [0, 1, 2, 3, 4, 5, 6, 7, 8, 9]\n",
    "# Creating a graph with the two lists.\n",
    "plt.bar(x_axis, mouse_id, color = \"red\", alpha = 0.5, align = \"center\", width = 0.5)\n",
    "# Location on where to place each of our x axis headers.\n",
    "tick_locations = [value for value in x_axis]\n",
    "drug_regimen = [\"Capomulin\", \"Ceftamin\", \"Infubinol\", \"Ketapril\", \"Naftisol\", \n",
    "                \"Placebo\", \"Propriva\", \"Ramicane\", \"Stelasyn\", \"Zoniferol\"]\n",
    "plt.xticks(tick_locations, drug_regimen, rotation = 45)\n",
    "# Adding title & labels to plot.\n",
    "plt.xlabel(\"Treatment Regimen\")\n",
    "plt.ylabel(\"Number of Data Points\")\n",
    "plt.title(\"Number of Data Points for each Treatment Regimen\")\n",
    "# Creating another y-limit \n",
    "plt.ylim((125, 250))\n",
    "# Print\n",
    "plt.show()"
   ]
  },
  {
   "cell_type": "code",
   "execution_count": 16,
   "id": "1189b796-7f6c-41d3-86f6-f60e78fc42b6",
   "metadata": {},
   "outputs": [
    {
     "ename": "KeyError",
     "evalue": "'Sex'",
     "output_type": "error",
     "traceback": [
      "\u001b[1;31m---------------------------------------------------------------------------\u001b[0m",
      "\u001b[1;31mKeyError\u001b[0m                                  Traceback (most recent call last)",
      "File \u001b[1;32m~\\anaconda3\\New folder\\lib\\site-packages\\pandas\\core\\indexes\\base.py:3621\u001b[0m, in \u001b[0;36mIndex.get_loc\u001b[1;34m(self, key, method, tolerance)\u001b[0m\n\u001b[0;32m   3620\u001b[0m \u001b[38;5;28;01mtry\u001b[39;00m:\n\u001b[1;32m-> 3621\u001b[0m     \u001b[38;5;28;01mreturn\u001b[39;00m \u001b[38;5;28;43mself\u001b[39;49m\u001b[38;5;241;43m.\u001b[39;49m\u001b[43m_engine\u001b[49m\u001b[38;5;241;43m.\u001b[39;49m\u001b[43mget_loc\u001b[49m\u001b[43m(\u001b[49m\u001b[43mcasted_key\u001b[49m\u001b[43m)\u001b[49m\n\u001b[0;32m   3622\u001b[0m \u001b[38;5;28;01mexcept\u001b[39;00m \u001b[38;5;167;01mKeyError\u001b[39;00m \u001b[38;5;28;01mas\u001b[39;00m err:\n",
      "File \u001b[1;32m~\\anaconda3\\New folder\\lib\\site-packages\\pandas\\_libs\\index.pyx:136\u001b[0m, in \u001b[0;36mpandas._libs.index.IndexEngine.get_loc\u001b[1;34m()\u001b[0m\n",
      "File \u001b[1;32m~\\anaconda3\\New folder\\lib\\site-packages\\pandas\\_libs\\index.pyx:163\u001b[0m, in \u001b[0;36mpandas._libs.index.IndexEngine.get_loc\u001b[1;34m()\u001b[0m\n",
      "File \u001b[1;32mpandas\\_libs\\hashtable_class_helper.pxi:5198\u001b[0m, in \u001b[0;36mpandas._libs.hashtable.PyObjectHashTable.get_item\u001b[1;34m()\u001b[0m\n",
      "File \u001b[1;32mpandas\\_libs\\hashtable_class_helper.pxi:5206\u001b[0m, in \u001b[0;36mpandas._libs.hashtable.PyObjectHashTable.get_item\u001b[1;34m()\u001b[0m\n",
      "\u001b[1;31mKeyError\u001b[0m: 'Sex'",
      "\nThe above exception was the direct cause of the following exception:\n",
      "\u001b[1;31mKeyError\u001b[0m                                  Traceback (most recent call last)",
      "Input \u001b[1;32mIn [16]\u001b[0m, in \u001b[0;36m<cell line: 6>\u001b[1;34m()\u001b[0m\n\u001b[0;32m      4\u001b[0m \u001b[38;5;66;03m# Delete the unnecessary columns\u001b[39;00m\n\u001b[0;32m      5\u001b[0m \u001b[38;5;28;01mdel\u001b[39;00m female_male_distribution[\u001b[38;5;124m\"\u001b[39m\u001b[38;5;124mDrug Regimen\u001b[39m\u001b[38;5;124m\"\u001b[39m]\n\u001b[1;32m----> 6\u001b[0m \u001b[38;5;28;01mdel\u001b[39;00m female_male_distribution[\u001b[38;5;124m\"\u001b[39m\u001b[38;5;124mSex\u001b[39m\u001b[38;5;124m\"\u001b[39m]\n\u001b[0;32m      7\u001b[0m \u001b[38;5;28;01mdel\u001b[39;00m female_male_distribution[\u001b[38;5;124m\"\u001b[39m\u001b[38;5;124mAge_months\u001b[39m\u001b[38;5;124m\"\u001b[39m]\n\u001b[0;32m      8\u001b[0m \u001b[38;5;28;01mdel\u001b[39;00m female_male_distribution[\u001b[38;5;124m\"\u001b[39m\u001b[38;5;124mWeight (g)\u001b[39m\u001b[38;5;124m\"\u001b[39m]\n",
      "File \u001b[1;32m~\\anaconda3\\New folder\\lib\\site-packages\\pandas\\core\\generic.py:4048\u001b[0m, in \u001b[0;36mNDFrame.__delitem__\u001b[1;34m(self, key)\u001b[0m\n\u001b[0;32m   4043\u001b[0m             deleted \u001b[38;5;241m=\u001b[39m \u001b[38;5;28;01mTrue\u001b[39;00m\n\u001b[0;32m   4044\u001b[0m \u001b[38;5;28;01mif\u001b[39;00m \u001b[38;5;129;01mnot\u001b[39;00m deleted:\n\u001b[0;32m   4045\u001b[0m     \u001b[38;5;66;03m# If the above loop ran and didn't delete anything because\u001b[39;00m\n\u001b[0;32m   4046\u001b[0m     \u001b[38;5;66;03m# there was no match, this call should raise the appropriate\u001b[39;00m\n\u001b[0;32m   4047\u001b[0m     \u001b[38;5;66;03m# exception:\u001b[39;00m\n\u001b[1;32m-> 4048\u001b[0m     loc \u001b[38;5;241m=\u001b[39m \u001b[38;5;28;43mself\u001b[39;49m\u001b[38;5;241;43m.\u001b[39;49m\u001b[43maxes\u001b[49m\u001b[43m[\u001b[49m\u001b[38;5;241;43m-\u001b[39;49m\u001b[38;5;241;43m1\u001b[39;49m\u001b[43m]\u001b[49m\u001b[38;5;241;43m.\u001b[39;49m\u001b[43mget_loc\u001b[49m\u001b[43m(\u001b[49m\u001b[43mkey\u001b[49m\u001b[43m)\u001b[49m\n\u001b[0;32m   4049\u001b[0m     \u001b[38;5;28mself\u001b[39m\u001b[38;5;241m.\u001b[39m_mgr \u001b[38;5;241m=\u001b[39m \u001b[38;5;28mself\u001b[39m\u001b[38;5;241m.\u001b[39m_mgr\u001b[38;5;241m.\u001b[39midelete(loc)\n\u001b[0;32m   4051\u001b[0m \u001b[38;5;66;03m# delete from the caches\u001b[39;00m\n",
      "File \u001b[1;32m~\\anaconda3\\New folder\\lib\\site-packages\\pandas\\core\\indexes\\base.py:3623\u001b[0m, in \u001b[0;36mIndex.get_loc\u001b[1;34m(self, key, method, tolerance)\u001b[0m\n\u001b[0;32m   3621\u001b[0m     \u001b[38;5;28;01mreturn\u001b[39;00m \u001b[38;5;28mself\u001b[39m\u001b[38;5;241m.\u001b[39m_engine\u001b[38;5;241m.\u001b[39mget_loc(casted_key)\n\u001b[0;32m   3622\u001b[0m \u001b[38;5;28;01mexcept\u001b[39;00m \u001b[38;5;167;01mKeyError\u001b[39;00m \u001b[38;5;28;01mas\u001b[39;00m err:\n\u001b[1;32m-> 3623\u001b[0m     \u001b[38;5;28;01mraise\u001b[39;00m \u001b[38;5;167;01mKeyError\u001b[39;00m(key) \u001b[38;5;28;01mfrom\u001b[39;00m \u001b[38;5;21;01merr\u001b[39;00m\n\u001b[0;32m   3624\u001b[0m \u001b[38;5;28;01mexcept\u001b[39;00m \u001b[38;5;167;01mTypeError\u001b[39;00m:\n\u001b[0;32m   3625\u001b[0m     \u001b[38;5;66;03m# If we have a listlike key, _check_indexing_error will raise\u001b[39;00m\n\u001b[0;32m   3626\u001b[0m     \u001b[38;5;66;03m#  InvalidIndexError. Otherwise we fall through and re-raise\u001b[39;00m\n\u001b[0;32m   3627\u001b[0m     \u001b[38;5;66;03m#  the TypeError.\u001b[39;00m\n\u001b[0;32m   3628\u001b[0m     \u001b[38;5;28mself\u001b[39m\u001b[38;5;241m.\u001b[39m_check_indexing_error(key)\n",
      "\u001b[1;31mKeyError\u001b[0m: 'Sex'"
     ]
    }
   ],
   "source": [
    "# Generate a pie plot showing the distribution of female versus male mice using pandas\n",
    "# \"groupby\" the \"Sex\" and count the number of female and male mice\n",
    "female_male_distribution = laboratory_data.groupby([\"Sex\"]).nunique()\n",
    "# Delete the unnecessary columns\n",
    "del female_male_distribution[\"Drug Regimen\"]\n",
    "del female_male_distribution[\"Sex\"]\n",
    "del female_male_distribution[\"Age_months\"]\n",
    "del female_male_distribution[\"Weight (g)\"]\n",
    "del female_male_distribution[\"Timepoint\"]\n",
    "del female_male_distribution[\"Tumor Volume (mm3)\"]\n",
    "del female_male_distribution[\"Metastatic Sites\"]\n",
    "# Show percentages because the values are very close; we also want our pie plot from pandas to look identical to the pie plot from matplotlib.\n",
    "pymaceuticals_pie_plot = female_male_distribution.plot.pie(y = \"Mouse ID\", \n",
    "                                                           autopct = '%1.1f%%', \n",
    "                                                           legend = False, \n",
    "                                                           title = \"Distribution of Female Mice versus Male Mice\", \n",
    "                                                           colors = [\"blue\", \"orange\"])"
   ]
  },
  {
   "cell_type": "code",
   "execution_count": 17,
   "id": "4a83985b-e25f-421b-a33e-cd80f213b27b",
   "metadata": {},
   "outputs": [
    {
     "data": {
      "image/png": "[encoded data removed]",
      "text/plain": [
       "<Figure size 432x288 with 1 Axes>"
      ]
     },
     "metadata": {},
     "output_type": "display_data"
    }
   ],
   "source": [
    "# Generating a pie plot showing the distribution of female versus male mice using pyplot.\n",
    "# Labels for the sections of our pie chart\n",
    "labels = [\"Female\", \"Male\"]\n",
    "# The values of each section of the pie chart\n",
    "sizes = [124, 125]\n",
    "# colors of each section of the pie chart\n",
    "colors = [\"blue\", \"orange\"]\n",
    "# Creating pie chart based upon the values above\n",
    "plt.pie(sizes, labels = labels, colors = colors, autopct = \"%1.1f%%\")\n",
    "plt.title(\"Distribution of Female Mice versus Male Mice\")\n",
    "plt.ylabel(\"Mouse ID\")\n",
    "plt.show()"
   ]
  },
  {
   "cell_type": "code",
   "execution_count": 19,
   "id": "57c4daf6-dd26-46ce-a6b2-81f1944f606e",
   "metadata": {},
   "outputs": [],
   "source": [
    "# Calculate the final tumor volume of each mouse across four of the most promising treatment regimens.\n",
    "# Because we are looking for the final tumor volume, and not all of the tumor volumes, we find the maximum timepoint for each Mouse ID.\n",
    "laboratory_data_copy = laboratory_data.copy()\n",
    "# Delete the unnecessary columns (the ones that we are not looking at).\n",
    "del laboratory_data_copy[\"Sex\"]\n",
    "del laboratory_data_copy[\"Age_months\"]\n",
    "del laboratory_data_copy[\"Weight (g)\"]\n",
    "del laboratory_data_copy[\"Metastatic Sites\"]\n",
    "# The \"last\" method finds the final periods of time series data (which this is, based on \"Timepoint\"). This is useful because the \"min\" and \"max\" functions will not count the mice that did not finish the trial, and for tumor volume, it will only return a non-corresponding maximum and minimum (regardless of the timepoint). We also group by the Mouse ID to find their unique timepoints and tumor volumes. Lastly, we set the index to \"Drug Regimen\" in order to eventually use the \"locate\" method to search for the drug regimens of interest in the DataFrame.\n",
    "final_tumor_volume_df = laboratory_data_copy.groupby(\"Mouse ID\").last().set_index(\"Drug Regimen\")\n",
    "# Delete the \"Timepoint\" column and make this a Series so that we can perform aggregate functions on it.\n",
    "del final_tumor_volume_df[\"Timepoint\"]\n",
    "# For instances of their final tumor volume...\n",
    "capomulin = final_tumor_volume_df.loc[\"Capomulin\"]\n",
    "ramicane = final_tumor_volume_df.loc[\"Ramicane\"]\n",
    "infubinol = final_tumor_volume_df.loc[\"Infubinol\"]\n",
    "ceftamin = final_tumor_volume_df.loc[\"Ceftamin\"]\n",
    "# Calculate the IQR and quantitatively determine if there are any potential outliers.\n",
    "# We use pandas to give us our quartile calculations.\n",
    "# 1st, Capomulin...\n",
    "capomulin_min = capomulin.min()\n",
    "capomulin_max = capomulin.max()\n",
    "capomulin_quartiles = capomulin[\"Tumor Volume (mm3)\"].quantile([0.25,0.5,0.75])\n",
    "capomulin_lowerq = capomulin_quartiles[0.25]\n",
    "capomulin_upperq = capomulin_quartiles[0.75]\n",
    "capomulin_iqr = capomulin_upperq-capomulin_lowerq\n",
    "capomulin_lower_bound = capomulin_lowerq - (1.5*capomulin_iqr)\n",
    "capomulin_upper_bound = capomulin_upperq + (1.5*capomulin_iqr)\n",
    "# 2nd, Ramicane...\n",
    "ramicane_min = ramicane.min()\n",
    "ramicane_max = ramicane.max()\n",
    "ramicane_quartiles = ramicane[\"Tumor Volume (mm3)\"].quantile([0.25,0.5,0.75])\n",
    "ramicane_lowerq = ramicane_quartiles[0.25]\n",
    "ramicane_upperq = ramicane_quartiles[0.75]\n",
    "ramicane_iqr = ramicane_upperq-ramicane_lowerq\n",
    "ramicane_lower_bound = ramicane_lowerq - (1.5*ramicane_iqr)\n",
    "ramicane_upper_bound = ramicane_upperq + (1.5*ramicane_iqr)\n",
    "# 3rd, Infubinol...\n",
    "infubinol_min = infubinol.min()\n",
    "infubinol_max = infubinol.max()\n",
    "infubinol_quartiles = infubinol[\"Tumor Volume (mm3)\"].quantile([0.25,0.5,0.75])\n",
    "infubinol_lowerq = infubinol_quartiles[0.25]\n",
    "infubinol_upperq = infubinol_quartiles[0.75]\n",
    "infubinol_iqr = infubinol_upperq-infubinol_lowerq\n",
    "infubinol_lower_bound = infubinol_lowerq - (1.5*infubinol_iqr)\n",
    "infubinol_upper_bound = infubinol_upperq + (1.5*infubinol_iqr)\n",
    "# 4th, Ceftamin...\n",
    "ceftamin_min = ceftamin.min()\n",
    "ceftamin_max = ceftamin.max()\n",
    "ceftamin_quartiles = ceftamin[\"Tumor Volume (mm3)\"].quantile([0.25,0.5,0.75])\n",
    "ceftamin_lowerq = ceftamin_quartiles[0.25]\n",
    "ceftamin_upperq = ceftamin_quartiles[0.75]\n",
    "ceftamin_iqr = ceftamin_upperq-ceftamin_lowerq\n",
    "ceftamin_lower_bound = ceftamin_lowerq - (1.5*ceftamin_iqr)\n",
    "ceftamin_upper_bound = ceftamin_upperq + (1.5*ceftamin_iqr)"
   ]
  },
  {
   "cell_type": "code",
   "execution_count": 20,
   "id": "2feb842f-1207-4837-ad27-ea1453dc0cd3",
   "metadata": {},
   "outputs": [
    {
     "name": "stdout",
     "output_type": "stream",
     "text": [
      "The IQR for Capomulin is: 7.782\n",
      "The lower bound for Capomulin is 20.705; values below this may be outliers.\n",
      "The upper bound for Capomulin is 51.832; values above this may be outliers.\n",
      "\n",
      "The IQR for Ramicane is: 9.099\n",
      "The lower bound for Ramicane is 17.913; values below this may be outliers.\n",
      "The upper bound for Ramicane is 54.307; values above this may be outliers.\n",
      "\n",
      "The IQR for Infubinol is: 11.477\n",
      "The lower bound for Infubinol is 36.833; values below this may be outliers.\n",
      "The upper bound for Infubinol is 82.741; values above this may be outliers.\n",
      "\n",
      "The IQR for Ceftamin is: 15.578\n",
      "The lower bound for Ceftamin is 25.355; values below this may be outliers.\n",
      "The upper bound for Ceftamin is 87.666; values above this may be outliers.\n"
     ]
    }
   ],
   "source": [
    "print(f\"The IQR for Capomulin is: {round(capomulin_iqr, 3)}\")\n",
    "print(f\"The lower bound for Capomulin is {round(capomulin_lower_bound, 3)}; values below this may be outliers.\")\n",
    "print(f\"The upper bound for Capomulin is {round(capomulin_upper_bound, 3)}; values above this may be outliers.\"\"\\n\")\n",
    "\n",
    "print(f\"The IQR for Ramicane is: {round(ramicane_iqr, 3)}\")\n",
    "print(f\"The lower bound for Ramicane is {round(ramicane_lower_bound, 3)}; values below this may be outliers.\")\n",
    "print(f\"The upper bound for Ramicane is {round(ramicane_upper_bound, 3)}; values above this may be outliers.\"\"\\n\")\n",
    "\n",
    "print(f\"The IQR for Infubinol is: {round(infubinol_iqr, 3)}\")\n",
    "print(f\"The lower bound for Infubinol is {round(infubinol_lower_bound, 3)}; values below this may be outliers.\")\n",
    "print(f\"The upper bound for Infubinol is {round(infubinol_upper_bound, 3)}; values above this may be outliers.\"\"\\n\")\n",
    "\n",
    "print(f\"The IQR for Ceftamin is: {round(ceftamin_iqr, 3)}\")\n",
    "print(f\"The lower bound for Ceftamin is {round(ceftamin_lower_bound, 3)}; values below this may be outliers.\")\n",
    "print(f\"The upper bound for Ceftamin is {round(ceftamin_upper_bound, 3)}; values above this may be outliers.\")"
   ]
  },
  {
   "cell_type": "code",
   "execution_count": 21,
   "id": "b74e1ea0-859f-40a5-aa09-65b422ea7bc0",
   "metadata": {},
   "outputs": [
    {
     "name": "stderr",
     "output_type": "stream",
     "text": [
      "C:\\Users\\HP.LAPTOP-DGGARQJP\\AppData\\Local\\Temp\\ipykernel_16228\\3523076419.py:6: UserWarning: FixedFormatter should only be used together with FixedLocator\n",
      "  ax1.set_xticklabels([\"Capomulin\", \"Ramicane\", \"Infubinol\", \"Ceftamin\"])\n"
     ]
    },
    {
     "data": {
      "text/plain": [
       "{'whiskers': [<matplotlib.lines.Line2D at 0x1d752efaac0>,\n",
       "  <matplotlib.lines.Line2D at 0x1d752efa160>,\n",
       "  <matplotlib.lines.Line2D at 0x1d752f01b20>,\n",
       "  <matplotlib.lines.Line2D at 0x1d752f01df0>,\n",
       "  <matplotlib.lines.Line2D at 0x1d752f15f10>,\n",
       "  <matplotlib.lines.Line2D at 0x1d752f21220>,\n",
       "  <matplotlib.lines.Line2D at 0x1d752f2b340>,\n",
       "  <matplotlib.lines.Line2D at 0x1d752f2b610>],\n",
       " 'caps': [<matplotlib.lines.Line2D at 0x1d752ef4880>,\n",
       "  <matplotlib.lines.Line2D at 0x1d752ef4220>,\n",
       "  <matplotlib.lines.Line2D at 0x1d752f15100>,\n",
       "  <matplotlib.lines.Line2D at 0x1d752f153d0>,\n",
       "  <matplotlib.lines.Line2D at 0x1d752f214f0>,\n",
       "  <matplotlib.lines.Line2D at 0x1d752f217c0>,\n",
       "  <matplotlib.lines.Line2D at 0x1d752f2b8e0>,\n",
       "  <matplotlib.lines.Line2D at 0x1d752f2bbb0>],\n",
       " 'boxes': [<matplotlib.lines.Line2D at 0x1d752efaf70>,\n",
       "  <matplotlib.lines.Line2D at 0x1d752f01850>,\n",
       "  <matplotlib.lines.Line2D at 0x1d752f15c40>,\n",
       "  <matplotlib.lines.Line2D at 0x1d752f2b070>],\n",
       " 'medians': [<matplotlib.lines.Line2D at 0x1d752f01280>,\n",
       "  <matplotlib.lines.Line2D at 0x1d752f156a0>,\n",
       "  <matplotlib.lines.Line2D at 0x1d752f21a90>,\n",
       "  <matplotlib.lines.Line2D at 0x1d752f2be80>],\n",
       " 'fliers': [<matplotlib.lines.Line2D at 0x1d752f01550>,\n",
       "  <matplotlib.lines.Line2D at 0x1d752f15970>,\n",
       "  <matplotlib.lines.Line2D at 0x1d752f21d60>,\n",
       "  <matplotlib.lines.Line2D at 0x1d752f3c190>],\n",
       " 'means': []}"
      ]
     },
     "execution_count": 21,
     "metadata": {},
     "output_type": "execute_result"
    },
    {
     "data": {
      "image/png": "[encoded data removed]",
      "text/plain": [
       "<Figure size 432x288 with 1 Axes>"
      ]
     },
     "metadata": {
      "needs_background": "light"
     },
     "output_type": "display_data"
    }
   ],
   "source": [
    "# Generate a box plot of the final tumor volume of each mouse across four regimens of interest.\n",
    "fig1, ax1 = plt.subplots()\n",
    "ax1.set_title(\"Final Tumor Volume of Each Mouse\")\n",
    "ax1.set_ylabel(\"Tumor Volume (mm3)\")\n",
    "ax1.set_xlabel(\"Regimens of Interest\")\n",
    "ax1.set_xticklabels([\"Capomulin\", \"Ramicane\", \"Infubinol\", \"Ceftamin\"])\n",
    "# Highlight any potential outliers in the plot by changing their color and style.\n",
    "flierprops_capomulin = dict(marker = \"o\", markerfacecolor = \"red\", markersize = 10, markeredgecolor = \"black\")\n",
    "# Combine our data into one variable to hold the four regimens of interest.\n",
    "four_regimens = [capomulin[\"Tumor Volume (mm3)\"], ramicane[\"Tumor Volume (mm3)\"], \n",
    "                 infubinol[\"Tumor Volume (mm3)\"], ceftamin[\"Tumor Volume (mm3)\"]]\n",
    "ax1.boxplot(four_regimens, flierprops = flierprops_capomulin)"
   ]
  },
  {
   "cell_type": "code",
   "execution_count": 22,
   "id": "655a2535-8c8a-4ccc-9f8f-942cac08731a",
   "metadata": {},
   "outputs": [],
   "source": [
    "# Generate a line plot of time point versus tumor volume for a mouse treated with Capomulin.\n",
    "line_plot_df = final_tumor_volume_df.loc[\"Capomulin\", :]"
   ]
  },
  {
   "cell_type": "code",
   "execution_count": 23,
   "id": "c3ec037d-4b7b-4717-bac1-f6176526c1a6",
   "metadata": {},
   "outputs": [],
   "source": [
    "# This is for a single mouse; I chose mouse \"s185\".\n",
    "x_axis = [0, 5, 10, 15, 20, 25, 30, 35, 40, 45]\n",
    "y_axis = [45.000000, 43.878496, 37.614948, 38.177232, 36.866876, \n",
    "          33.949940, 32.959671, 28.328531, 25.472143, 23.343598]"
   ]
  },
  {
   "cell_type": "code",
   "execution_count": 24,
   "id": "312ff34e-5969-44a1-9f01-e402300c8a8a",
   "metadata": {},
   "outputs": [
    {
     "data": {
      "text/plain": [
       "Text(0.5, 1.0, 'Tumor Volume over each Timepoint for s185')"
      ]
     },
     "execution_count": 24,
     "metadata": {},
     "output_type": "execute_result"
    },
    {
     "data": {
      "image/png": "[encoded data removed]",
      "text/plain": [
       "<Figure size 432x288 with 1 Axes>"
      ]
     },
     "metadata": {
      "needs_background": "light"
     },
     "output_type": "display_data"
    }
   ],
   "source": [
    "# Create a graph based upon the two lists that we have created.\n",
    "plt.plot(x_axis, y_axis)\n",
    "# Give our graph axis labels and a title.\n",
    "plt.xlabel(\"Timepoint\")\n",
    "plt.ylabel(\"Tumor Volume (mm3)\")\n",
    "plt.title(\"Tumor Volume over each Timepoint for s185\")"
   ]
  },
  {
   "cell_type": "code",
   "execution_count": 25,
   "id": "bf1d3c37-ad89-4187-9522-66ba018347b8",
   "metadata": {},
   "outputs": [
    {
     "name": "stdout",
     "output_type": "stream",
     "text": [
      "The correlation between both factors is 0.84.\n"
     ]
    },
    {
     "data": {
      "text/plain": [
       "[<matplotlib.lines.Line2D at 0x1d753000730>]"
      ]
     },
     "execution_count": 25,
     "metadata": {},
     "output_type": "execute_result"
    },
    {
     "data": {
      "image/png": "[encoded data removed]",
      "text/plain": [
       "<Figure size 432x288 with 1 Axes>"
      ]
     },
     "metadata": {
      "needs_background": "light"
     },
     "output_type": "display_data"
    }
   ],
   "source": [
    "# Generate a scatter plot of mouse weight versus average tumor volume for the Capomulin regimen.\n",
    "scatter_plot_df = laboratory_data.groupby([\"Drug Regimen\", \"Mouse ID\"]).mean().loc[\"Capomulin\"]\n",
    "# Delete the unneeded columns.\n",
    "del scatter_plot_df[\"Age_months\"]\n",
    "del scatter_plot_df[\"Timepoint\"]\n",
    "del scatter_plot_df[\"Metastatic Sites\"]\n",
    "mouse_weight = scatter_plot_df.reset_index().drop(columns = [\"Mouse ID\"]).loc[:, \"Weight (g)\"]\n",
    "# These are still DataFrames, not lists; so, they must be converted.\n",
    "mouse_weight_list = mouse_weight.values.tolist()\n",
    "tumor_volume = scatter_plot_df.reset_index().drop(columns = [\"Mouse ID\"]).loc[:, \"Tumor Volume (mm3)\"]\n",
    "tumor_volume_list = tumor_volume.values.tolist()\n",
    "# Tell matplotlib to create a scatter plot based upon the above data.\n",
    "plt.scatter(mouse_weight_list, tumor_volume_list, marker = \"o\", facecolors = \"red\", edgecolors = \"black\")\n",
    "# Create a title, x label, and y label for our chart.\n",
    "plt.title(\"Mouse Weight versus Average Tumor Volume - Capomulin Regimen\")\n",
    "plt.xlabel(\"Weight (g)\")\n",
    "plt.ylabel(\"Tumor Volume (mm3)\")\n",
    "# Calculate the correlation coefficient and linear regression model\n",
    "# (cont.) for mouse weight and average tumor volume for the Capomulin regimen\n",
    "x = scatter_plot_df.loc[:, \"Weight (g)\"]\n",
    "y = scatter_plot_df.loc[:, \"Tumor Volume (mm3)\"]\n",
    "correlation_coefficient = st.pearsonr(x, y)\n",
    "print(f\"The correlation between both factors is {round(correlation_coefficient[0],2)}.\")\n",
    "# Plot the linear regression model on top of the previous scatter plot.\n",
    "y_slope, y_int, y_r, y_p, y_std_err = st.linregress(x, y)\n",
    "y_fit = y_slope * x + y_int\n",
    "plt.plot(x,y_fit)"
   ]
  },
  {
   "cell_type": "code",
   "execution_count": null,
   "id": "7959d4ee-10e4-49bc-b048-f6632f77a429",
   "metadata": {},
   "outputs": [],
   "source": []
  }
 ],
 "metadata": {
  "kernelspec": {
   "display_name": "Python 3 (ipykernel)",
   "language": "python",
   "name": "python3"
  },
  "language_info": {
   "codemirror_mode": {
    "name": "ipython",
    "version": 3
   },
   "file_extension": ".py",
   "mimetype": "text/x-python",
   "name": "python",
   "nbconvert_exporter": "python",
   "pygments_lexer": "ipython3",
   "version": "3.9.12"
  }
 },
 "nbformat": 4,
 "nbformat_minor": 5
}
